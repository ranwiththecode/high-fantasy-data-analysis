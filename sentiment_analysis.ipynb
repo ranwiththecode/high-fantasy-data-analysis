{
  "nbformat": 4,
  "nbformat_minor": 0,
  "metadata": {
    "colab": {
      "provenance": [],
      "authorship_tag": "ABX9TyOSyGq8yl6Ee4KXHRWN2DXE",
      "include_colab_link": true
    },
    "kernelspec": {
      "name": "python3",
      "display_name": "Python 3"
    },
    "language_info": {
      "name": "python"
    }
  },
  "cells": [
    {
      "cell_type": "markdown",
      "metadata": {
        "id": "view-in-github",
        "colab_type": "text"
      },
      "source": [
        "<a href=\"https://colab.research.google.com/github/ranwiththecode/high-fantasy-data-analysis/blob/main/sentiment_analysis.ipynb\" target=\"_parent\"><img src=\"https://colab.research.google.com/assets/colab-badge.svg\" alt=\"Open In Colab\"/></a>"
      ]
    },
    {
      "cell_type": "code",
      "source": [
        "from google.colab import auth\n",
        "auth.authenticate_user()\n",
        "\n",
        "!gcloud config set project stable-course-461105-k9  # Replace with your actual project ID\n",
        "!gcloud auth list  # Verify your active account"
      ],
      "metadata": {
        "colab": {
          "base_uri": "https://localhost:8080/"
        },
        "id": "Ua6e77PhddvD",
        "outputId": "0216c429-9a52-4032-8671-6a2477dc7a38"
      },
      "execution_count": null,
      "outputs": [
        {
          "output_type": "stream",
          "name": "stdout",
          "text": [
            "Updated property [core/project].\n",
            "     Credentialed Accounts\n",
            "ACTIVE  ACCOUNT\n",
            "*       ranjani.y.iyer@gmail.com\n",
            "\n",
            "To set the active account, run:\n",
            "    $ gcloud config set account `ACCOUNT`\n",
            "\n"
          ]
        }
      ]
    },
    {
      "cell_type": "code",
      "source": [
        "from google.colab import auth\n",
        "auth.authenticate_user()\n",
        "\n",
        "# Set project and grant permissions\n",
        "!gcloud config set project stable-course-461105-k9  # REPLACE with your actual project ID\n",
        "!gcloud projects add-iam-policy-binding stable-course-461105-k9 \\\n",
        "    --member=user:ranjani.y.iyer@gmail.com \\\n",
        "    --role=roles/bigquery.user"
      ],
      "metadata": {
        "colab": {
          "base_uri": "https://localhost:8080/"
        },
        "id": "YjDbMstgdqqp",
        "outputId": "ef75685d-eb52-4d71-e055-ae126c05c5ec"
      },
      "execution_count": null,
      "outputs": [
        {
          "output_type": "stream",
          "name": "stdout",
          "text": [
            "Updated property [core/project].\n",
            "Updated IAM policy for project [stable-course-461105-k9].\n",
            "bindings:\n",
            "- members:\n",
            "  - serviceAccount:service-807385999782@gcp-sa-vertex-nb.iam.gserviceaccount.com\n",
            "  role: roles/aiplatform.colabServiceAgent\n",
            "- members:\n",
            "  - serviceAccount:service-807385999782@gcp-sa-aiplatform-vm.iam.gserviceaccount.com\n",
            "  role: roles/aiplatform.notebookServiceAgent\n",
            "- members:\n",
            "  - serviceAccount:service-807385999782@gcp-sa-aiplatform.iam.gserviceaccount.com\n",
            "  role: roles/aiplatform.serviceAgent\n",
            "- members:\n",
            "  - user:ranjani.y.iyer@gmail.com\n",
            "  role: roles/bigquery.user\n",
            "- members:\n",
            "  - serviceAccount:807385999782@cloudbuild.gserviceaccount.com\n",
            "  role: roles/cloudbuild.builds.builder\n",
            "- members:\n",
            "  - serviceAccount:service-807385999782@gcp-sa-cloudbuild.iam.gserviceaccount.com\n",
            "  role: roles/cloudbuild.serviceAgent\n",
            "- members:\n",
            "  - serviceAccount:service-807385999782@gcf-admin-robot.iam.gserviceaccount.com\n",
            "  role: roles/cloudfunctions.serviceAgent\n",
            "- members:\n",
            "  - serviceAccount:service-807385999782@compute-system.iam.gserviceaccount.com\n",
            "  role: roles/compute.serviceAgent\n",
            "- members:\n",
            "  - serviceAccount:service-807385999782@containerregistry.iam.gserviceaccount.com\n",
            "  role: roles/containerregistry.ServiceAgent\n",
            "- members:\n",
            "  - serviceAccount:service-807385999782@gcp-sa-dataform.iam.gserviceaccount.com\n",
            "  role: roles/dataform.serviceAgent\n",
            "- members:\n",
            "  - serviceAccount:service-807385999782@dataproc-accounts.iam.gserviceaccount.com\n",
            "  role: roles/dataproc.serviceAgent\n",
            "- members:\n",
            "  - serviceAccount:807385999782-compute@developer.gserviceaccount.com\n",
            "  - serviceAccount:807385999782@cloudservices.gserviceaccount.com\n",
            "  - serviceAccount:stable-course-461105-k9@appspot.gserviceaccount.com\n",
            "  role: roles/editor\n",
            "- members:\n",
            "  - user:ranjani.y.iyer@gmail.com\n",
            "  role: roles/owner\n",
            "- members:\n",
            "  - serviceAccount:service-807385999782@gcp-sa-pubsub.iam.gserviceaccount.com\n",
            "  role: roles/pubsub.serviceAgent\n",
            "- members:\n",
            "  - serviceAccount:service-807385999782@serverless-robot-prod.iam.gserviceaccount.com\n",
            "  role: roles/run.serviceAgent\n",
            "etag: BwY3whoosZs=\n",
            "version: 1\n"
          ]
        }
      ]
    },
    {
      "cell_type": "code",
      "source": [
        "# First, run this authentication cell separately before your main code\n",
        "from google.colab import auth\n",
        "auth.authenticate_user()\n",
        "\n",
        "# Then run your BigQuery code"
      ],
      "metadata": {
        "id": "tgmSrY16ctlE"
      },
      "execution_count": null,
      "outputs": []
    },
    {
      "cell_type": "code",
      "execution_count": null,
      "metadata": {
        "id": "biCTFYWm6E4q",
        "colab": {
          "base_uri": "https://localhost:8080/"
        },
        "outputId": "d4f3ca1d-9c8a-44f3-8e40-3cd79f2d1700"
      },
      "outputs": [
        {
          "output_type": "stream",
          "name": "stderr",
          "text": [
            "[nltk_data] Downloading package vader_lexicon to /root/nltk_data...\n",
            "[nltk_data]   Package vader_lexicon is already up-to-date!\n"
          ]
        },
        {
          "output_type": "stream",
          "name": "stdout",
          "text": [
            "\n",
            "Loading data from: /content/drive/MyDrive/Goodreads_Data/eragon_paolini_clean.csv\n",
            "Analyzing sentiment...\n"
          ]
        },
        {
          "output_type": "stream",
          "name": "stderr",
          "text": [
            "Processing reviews: 100%|██████████| 24722/24722 [00:23<00:00, 1034.54it/s]\n"
          ]
        },
        {
          "output_type": "stream",
          "name": "stdout",
          "text": [
            "\n",
            "Updating BigQuery table: stable-course-461105-k9.google_imports.pubs_2000_2005\n",
            "✅ Success! Updated 24722 rows\n",
            "Sample updated data:\n",
            "                                                  id  sentiment\n",
            "0  kca://review:goodreads/amzn1.gr.review:goodrea...    -0.9804\n",
            "1  kca://review:goodreads/amzn1.gr.review:goodrea...     0.9729\n",
            "2  kca://review:goodreads/amzn1.gr.review:goodrea...    -0.6458\n"
          ]
        }
      ],
      "source": [
        "import pandas as pd\n",
        "from google.cloud import bigquery\n",
        "from nltk.sentiment.vader import SentimentIntensityAnalyzer\n",
        "import nltk\n",
        "from tqdm import tqdm\n",
        "\n",
        "# Initialize NLTK\n",
        "nltk.download('vader_lexicon')\n",
        "sid = SentimentIntensityAnalyzer()\n",
        "\n",
        "# Configuration (UPDATE THESE)\n",
        "CONFIG = {\n",
        "    \"project_id\": \"stable-course-461105-k9\",      # Case-sensitive\n",
        "    \"dataset_id\": \"google_imports\",   # Your dataset\n",
        "    \"table_id\": \"pubs_2000_2005\",           # Your table\n",
        "    \"drive_path\": \"/content/drive/MyDrive/Goodreads_Data/\",\n",
        "    \"input_file\": \"eragon_paolini_clean.csv\"  # Your cleaned file\n",
        "}\n",
        "\n",
        "def analyze_sentiment(text):\n",
        "    \"\"\"Calculate sentiment score using VADER\"\"\"\n",
        "    if not isinstance(text, str) or not text.strip():\n",
        "        return None\n",
        "    return sid.polarity_scores(text)['compound']\n",
        "\n",
        "def process_and_update():\n",
        "    \"\"\"End-to-end processing pipeline\"\"\"\n",
        "    # Initialize BigQuery client\n",
        "    bq_client = bigquery.Client(project=CONFIG['project_id'])\n",
        "\n",
        "    # 1. Load cleaned data\n",
        "    input_path = os.path.join(CONFIG['drive_path'], CONFIG['input_file'])\n",
        "    print(f\"\\nLoading data from: {input_path}\")\n",
        "    df = pd.read_csv(input_path)\n",
        "\n",
        "    # 2. Calculate sentiment (with progress bar)\n",
        "    print(\"Analyzing sentiment...\")\n",
        "    tqdm.pandas(desc=\"Processing reviews\")\n",
        "    df['sentiment'] = df['clean_text'].progress_apply(analyze_sentiment)\n",
        "\n",
        "    # 3. Prepare for BigQuery update\n",
        "    table_ref = f\"{CONFIG['project_id']}.{CONFIG['dataset_id']}.{CONFIG['table_id']}\"\n",
        "    update_df = df[['id', 'sentiment']]  # Columns to update\n",
        "\n",
        "    # 4. Execute BigQuery update\n",
        "    try:\n",
        "        print(f\"\\nUpdating BigQuery table: {table_ref}\")\n",
        "        job_config = bigquery.LoadJobConfig(\n",
        "            write_disposition=\"WRITE_TRUNCATE\",\n",
        "            create_disposition=\"CREATE_IF_NEEDED\"\n",
        "        )\n",
        "\n",
        "        job = bq_client.load_table_from_dataframe(\n",
        "            update_df,\n",
        "            table_ref,\n",
        "            job_config=job_config\n",
        "        )\n",
        "        job.result()  # Wait for completion\n",
        "\n",
        "        print(f\"✅ Success! Updated {len(update_df)} rows\")\n",
        "        print(f\"Sample updated data:\\n{update_df.head(3)}\")\n",
        "\n",
        "    except Exception as e:\n",
        "        print(f\"❌ Error: {str(e)}\")\n",
        "        if hasattr(e, 'errors'):\n",
        "            for error in e.errors:\n",
        "                print(f\"Detail: {error['message']}\")\n",
        "\n",
        "# Run the pipeline\n",
        "if __name__ == \"__main__\":\n",
        "    process_and_update()"
      ]
    }
  ]
}