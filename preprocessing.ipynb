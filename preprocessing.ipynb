{
  "nbformat": 4,
  "nbformat_minor": 0,
  "metadata": {
    "colab": {
      "provenance": [],
      "authorship_tag": "ABX9TyPQDfxwUGOsJ2SB3AqTYNUu",
      "include_colab_link": true
    },
    "kernelspec": {
      "name": "python3",
      "display_name": "Python 3"
    },
    "language_info": {
      "name": "python"
    }
  },
  "cells": [
    {
      "cell_type": "markdown",
      "metadata": {
        "id": "view-in-github",
        "colab_type": "text"
      },
      "source": [
        "<a href=\"https://colab.research.google.com/github/ranwiththecode/high-fantasy-data-analysis/blob/main/preprocessing.ipynb\" target=\"_parent\"><img src=\"https://colab.research.google.com/assets/colab-badge.svg\" alt=\"Open In Colab\"/></a>"
      ]
    },
    {
      "cell_type": "code",
      "execution_count": 4,
      "metadata": {
        "colab": {
          "base_uri": "https://localhost:8080/"
        },
        "id": "mgoActJc4Dsu",
        "outputId": "c6a0b246-1139-4ad8-dced-69792bf14876"
      },
      "outputs": [
        {
          "output_type": "stream",
          "name": "stdout",
          "text": [
            "Drive already mounted at /content/drive; to attempt to forcibly remount, call drive.mount(\"/content/drive\", force_remount=True).\n",
            "Starting preprocessing for magic_steeped_in_poison...\n"
          ]
        },
        {
          "output_type": "stream",
          "name": "stderr",
          "text": [
            "Preprocessing text: 100%|██████████| 6810/6810 [00:00<00:00, 33150.01it/s]\n",
            "Checking language: 100%|██████████| 6810/6810 [00:00<00:00, 36195.27it/s]\n"
          ]
        },
        {
          "output_type": "stream",
          "name": "stdout",
          "text": [
            "\n",
            "Success! Cleaned data saved to: /content/drive/MyDrive/Goodreads_Data/magic_steeped_in_poison_clean.csv\n",
            "Original reviews: 6810 | English reviews: 6790\n",
            "\n",
            "Sample of cleaned reviews:\n",
            "                                                                                                                                                                                                                                                                                                                                                                                                                                                                                                                                                                                                                                                                                                                                                                                                                                                                                                                                                                                                                                                     text                                                                                                                                                                                                                                                                                                                                                                                                                                                                                                                                                                                                                                                                                                                                                                                                                                                                                                                                                                                              clean_text\n",
            "                                                                                                                                                                                                                                                                                                                                                                                                                                                                                                                                                                                                                                                                                                                                                                                                                                                                            The magic in this was SO COOL it's based on different types of tea?? Like different tea does different magic depending on the leaves and how you prepare it? JUDY, YOUR MIND-                                                                                                                                                                                                                                                                                                                                                                                                                                                                                                                                                                                                                                                                                                                                                                                                                           The magic in this was SO COOL it's based on different types of tea?? Like different tea does different magic depending on the leaves and how you prepare it? JUDY, YOUR MIND-\n",
            "the element that really sells this story is the magic in the ancient chinese art of tea brewing. i loved how everything in this book revolves around tea - it connects the characters through magic bonds, it provides the MC with a way to help her family through a competition, and it serves as the opposition as tea is being poisoned. tea is the life and heart of this novel. it was very cool to not only read about ancient chinese customs around tea making, but also traditional chinese medicine. <br /><br />the thing that prevented me from going “oh, i quite liked this” to “i loved this” is how formulaic the story is. i guess for a debut, i really shouldnt be so critical of the narrative structure because its not terrible, but because this follows the set-up of any basic YA fantasy, i never really felt like the stakes were high or got super emotionally invested in the story/characters.<br /><br />but overall, a more than decent beginning to a magically rich story/series!<br /><br /><b>↠ <i>3.5 stars</i></b> the element that really sells this story is the magic in the ancient chinese art of tea brewing. i loved how everything in this book revolves around tea - it connects the characters through magic bonds, it provides the MC with a way to help her family through a competition, and it serves as the opposition as tea is being poisoned. tea is the life and heart of this novel. it was very cool to not only read about ancient chinese customs around tea making, but also traditional chinese medicine. the thing that prevented me from going “oh, i quite liked this” to “i loved this” is how formulaic the story is. i guess for a debut, i really shouldnt be so critical of the narrative structure because its not terrible, but because this follows the set-up of any basic YA fantasy, i never really felt like the stakes were high or got super emotionally invested in the story/characters.but overall, a more than decent beginning to a magically rich story/series!↠ 3.5 stars\n",
            "                                                                                                                                                                                                                                                                                                                                                                                                                                                                                                                                                                                                                                                                                                                                                                                                                                                                                                                                                                                                                        Dobra, to było super ekscytujące                                                                                                                                                                                                                                                                                                                                                                                                                                                                                                                                                                                                                                                                                                                                                                                                                                                                                                                                                                         Dobra, to było super ekscytujące\n",
            "                                                                                                                                                                                                                                                                                                                                                                                                                                                                                                                                                                                                                                                                                                                                                                                                                                              DNF @ 60%<br /><br />I just couldn't get into this one. Felt a lot like other things I've read, but it wasn't bad! Just wasn't doing it for me. I might revisit this though when I'm in a less slumpy mood.                                                                                                                                                                                                                                                                                                                                                                                                                                                                                                                                                                                                                                                                                                                                                                                                         DNF @ 60%I just couldn't get into this one. Felt a lot like other things I've read, but it wasn't bad! Just wasn't doing it for me. I might revisit this though when I'm in a less slumpy mood.\n",
            "                                                                                                                                                                                                                                                                                                                                                                                                                                                                                                                                                                                                                                                                                                                                                                                                                                                                                                                                                                                              I am an avid tea drinker and this book is purely about tea.                                                                                                                                                                                                                                                                                                                                                                                                                                                                                                                                                                                                                                                                                                                                                                                                                                                                                                                                             I am an avid tea drinker and this book is purely about tea.\n"
          ]
        }
      ],
      "source": [
        "import re\n",
        "import pandas as pd\n",
        "from google.colab import drive\n",
        "from tqdm import tqdm\n",
        "\n",
        "# Mount Google Drive\n",
        "drive.mount('/content/drive')\n",
        "\n",
        "# Expanded emoji dictionary\n",
        "EMOJI_DICT = {\n",
        "    \"😊\": \"[smiling_face]\",\n",
        "    \"😂\": \"[laughing_face]\",\n",
        "    \"❤️\": \"[heart]\",\n",
        "    \"😍\": \"[heart_eyes]\",\n",
        "    \"😒\": \"[unamused]\",\n",
        "    \"👍\": \"[thumbs_up]\",\n",
        "    \"🙏\": \"[praying_hands]\",\n",
        "    \"💕\": \"[two_hearts]\",\n",
        "    \"😘\": \"[kissing_face]\",\n",
        "    \"😎\": \"[cool_face]\",\n",
        "    \"🤦‍♀️\": \"[facepalm]\",\n",
        "    \"🥶\": \"[cold_face]\",\n",
        "    \"⭐\": \"[star]\",\n",
        "    \"📚\": \"[books]\",\n",
        "    \"✨\": \"[sparkles]\",\n",
        "    \"🎭\": \"[drama]\",\n",
        "    \"🔥\": \"[fire]\",\n",
        "    \"🤔\": \"[thinking]\",\n",
        "    \"😢\": \"[crying]\",\n",
        "    \"😡\": \"[angry]\",\n",
        "    \"🤩\": \"[starstruck]\",\n",
        "    # Add more as needed\n",
        "}\n",
        "\n",
        "def preprocess_text(text):\n",
        "\n",
        "    if not isinstance(text, str):\n",
        "        return \"\"\n",
        "\n",
        "    # Basic HTML tag removal (without BeautifulSoup)\n",
        "    clean_text = re.sub(r'<[^>]+>', '', text)\n",
        "\n",
        "    # Standardize whitespace\n",
        "    clean_text = re.sub(r'\\s+', ' ', clean_text).strip()\n",
        "\n",
        "    # Convert emojis to text descriptions\n",
        "    for emoji, desc in EMOJI_DICT.items():\n",
        "        clean_text = clean_text.replace(emoji, desc)\n",
        "\n",
        "    return clean_text\n",
        "\n",
        "def is_english(text, min_english_chars=0.7):\n",
        "    \"\"\"Simple English detection without langdetect\"\"\"\n",
        "    if not isinstance(text, str):\n",
        "        return False\n",
        "\n",
        "    # Count ASCII characters (basic English detection)\n",
        "    english_chars = sum(1 for c in text if ord(c) < 128)\n",
        "    total_chars = max(1, len(text))  # avoid division by zero\n",
        "\n",
        "    return (english_chars / total_chars) >= min_english_chars\n",
        "\n",
        "def preprocess_reviews_file(input_path, output_path):\n",
        "    \"\"\"Process the entire CSV file with progress tracking\"\"\"\n",
        "    # Read the raw data\n",
        "    try:\n",
        "        df = pd.read_csv(input_path)\n",
        "    except Exception as e:\n",
        "        print(f\"Error reading file: {e}\")\n",
        "        return False\n",
        "\n",
        "    # Ensure we have the expected columns\n",
        "    if 'text' not in df.columns:\n",
        "        print(\"Error: 'text' column not found in input file\")\n",
        "        return False\n",
        "\n",
        "    # Preprocess with progress bar\n",
        "    tqdm.pandas(desc=\"Preprocessing text\")\n",
        "    df['clean_text'] = df['text'].progress_apply(preprocess_text)\n",
        "\n",
        "    # Filter English reviews\n",
        "    tqdm.pandas(desc=\"Checking language\")\n",
        "    df['is_english'] = df['clean_text'].progress_apply(is_english)\n",
        "    english_df = df[df['is_english']].copy()\n",
        "\n",
        "    # Save cleaned data\n",
        "    try:\n",
        "        english_df.to_csv(output_path, index=False, encoding='utf-8')\n",
        "        print(f\"\\nSuccess! Cleaned data saved to: {output_path}\")\n",
        "        print(f\"Original reviews: {len(df)} | English reviews: {len(english_df)}\")\n",
        "        return True\n",
        "    except Exception as e:\n",
        "        print(f\"Error saving file: {e}\")\n",
        "        return False\n",
        "\n",
        "# Example usage in Colab\n",
        "if __name__ == \"__main__\":\n",
        "    # Set your file paths\n",
        "    BOOK_TITLE = \"magic_steeped_in_poison\"  # Change this to match your file name\n",
        "    INPUT_PATH = f'/content/drive/MyDrive/Goodreads_Data/{BOOK_TITLE}_raw.csv'\n",
        "    OUTPUT_PATH = f'/content/drive/MyDrive/Goodreads_Data/{BOOK_TITLE}_clean.csv'\n",
        "\n",
        "    # Run preprocessing\n",
        "    print(f\"Starting preprocessing for {BOOK_TITLE}...\")\n",
        "    success = preprocess_reviews_file(INPUT_PATH, OUTPUT_PATH)\n",
        "\n",
        "    if success:\n",
        "        # Show sample of cleaned data\n",
        "        cleaned_df = pd.read_csv(OUTPUT_PATH)\n",
        "        print(\"\\nSample of cleaned reviews:\")\n",
        "        print(cleaned_df[['text', 'clean_text']].head().to_string(index=False))"
      ]
    }
  ]
}